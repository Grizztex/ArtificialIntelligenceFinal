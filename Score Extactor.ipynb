{
 "cells": [
  {
   "cell_type": "code",
   "execution_count": 1,
   "id": "31f5efae-2867-42d8-bdd1-1bc03f793155",
   "metadata": {},
   "outputs": [],
   "source": [
    "import numpy as np\n",
    "import pandas as pd\n",
    "import os\n",
    "import matplotlib.pyplot as plt"
   ]
  },
  {
   "cell_type": "code",
   "execution_count": 2,
   "id": "1e3942a6-1ce8-4a3f-94a5-99f6c0ef4eba",
   "metadata": {},
   "outputs": [],
   "source": [
    "scoreArray = []\n",
    "numberArray = []\n",
    "\n",
    "def read_all_files(line_number):\n",
    "    folder_path = \"Sequence//\"\n",
    "\n",
    "\n",
    "    \n",
    "    for filename in os.listdir(folder_path):\n",
    "        file_path = os.path.join(folder_path, filename)\n",
    "    \n",
    "        if os.path.isfile(file_path):\n",
    "            try:\n",
    "                with open(file_path, 'r') as file:\n",
    "                    for i, line in enumerate(file):\n",
    "                        if i + 1 == line_number:\n",
    "                            number = int(\"\".join(filter(str.isdigit, filename)))\n",
    "                            numberArray.append(number)\n",
    "                            score = float(line.split()[3])\n",
    "                            scoreArray.append(score)\n",
    "                            break\n",
    "            except FileNotFoundError:\n",
    "                return None\n"
   ]
  },
  {
   "cell_type": "code",
   "execution_count": 3,
   "id": "5ee490fc-5c61-41af-bc99-128078f08f6e",
   "metadata": {},
   "outputs": [],
   "source": [
    "read_all_files(2)"
   ]
  },
  {
   "cell_type": "code",
   "execution_count": 4,
   "id": "2664d02f-bbf4-46dc-a0ff-dbef106a2cfa",
   "metadata": {},
   "outputs": [],
   "source": [
    "numberArray = np.array(numberArray)\n",
    "scoreArray = np.array(scoreArray)"
   ]
  },
  {
   "cell_type": "code",
   "execution_count": 5,
   "id": "29415f4c-422c-4813-bab8-c8c9e03c4a37",
   "metadata": {},
   "outputs": [],
   "source": [
    "data = pd.DataFrame()"
   ]
  },
  {
   "cell_type": "code",
   "execution_count": 6,
   "id": "89ca02f6-a3ba-49b2-b636-9d6ce722168c",
   "metadata": {},
   "outputs": [],
   "source": [
    "data[\"Number\"] = pd.to_numeric(numberArray)\n",
    "data[\"Scores\"] = scoreArray"
   ]
  },
  {
   "cell_type": "code",
   "execution_count": 7,
   "id": "1a0ed0c2-4314-4cb3-a541-55ede5fbbfc1",
   "metadata": {},
   "outputs": [],
   "source": [
    "data = data.sort_values(by=\"Number\").reset_index(drop=True)"
   ]
  },
  {
   "cell_type": "code",
   "execution_count": 8,
   "id": "86c387f9-62f8-44e6-99e7-c82533af8537",
   "metadata": {},
   "outputs": [
    {
     "data": {
      "text/html": [
       "<div>\n",
       "<style scoped>\n",
       "    .dataframe tbody tr th:only-of-type {\n",
       "        vertical-align: middle;\n",
       "    }\n",
       "\n",
       "    .dataframe tbody tr th {\n",
       "        vertical-align: top;\n",
       "    }\n",
       "\n",
       "    .dataframe thead th {\n",
       "        text-align: right;\n",
       "    }\n",
       "</style>\n",
       "<table border=\"1\" class=\"dataframe\">\n",
       "  <thead>\n",
       "    <tr style=\"text-align: right;\">\n",
       "      <th></th>\n",
       "      <th>Number</th>\n",
       "      <th>Scores</th>\n",
       "    </tr>\n",
       "  </thead>\n",
       "  <tbody>\n",
       "    <tr>\n",
       "      <th>0</th>\n",
       "      <td>1</td>\n",
       "      <td>-11.434</td>\n",
       "    </tr>\n",
       "    <tr>\n",
       "      <th>1</th>\n",
       "      <td>2</td>\n",
       "      <td>-11.479</td>\n",
       "    </tr>\n",
       "    <tr>\n",
       "      <th>2</th>\n",
       "      <td>10</td>\n",
       "      <td>-10.835</td>\n",
       "    </tr>\n",
       "    <tr>\n",
       "      <th>3</th>\n",
       "      <td>11</td>\n",
       "      <td>-10.324</td>\n",
       "    </tr>\n",
       "    <tr>\n",
       "      <th>4</th>\n",
       "      <td>12</td>\n",
       "      <td>-11.591</td>\n",
       "    </tr>\n",
       "  </tbody>\n",
       "</table>\n",
       "</div>"
      ],
      "text/plain": [
       "   Number  Scores\n",
       "0       1 -11.434\n",
       "1       2 -11.479\n",
       "2      10 -10.835\n",
       "3      11 -10.324\n",
       "4      12 -11.591"
      ]
     },
     "execution_count": 8,
     "metadata": {},
     "output_type": "execute_result"
    }
   ],
   "source": [
    "data.head()"
   ]
  },
  {
   "cell_type": "code",
   "execution_count": 9,
   "id": "a79ee937-cc14-4234-a5a5-249944495496",
   "metadata": {},
   "outputs": [],
   "source": [
    "sequences = pd.read_excel('amino_acid_sequence_updated.xlsx')\n",
    "\n",
    "column_name = 'Sequences'\n",
    "my_list = sequences[column_name].tolist()"
   ]
  },
  {
   "cell_type": "code",
   "execution_count": 10,
   "id": "5c8e83e5-7dbf-46dc-8322-e64b91c92583",
   "metadata": {},
   "outputs": [],
   "source": [
    "for value in sequences[\"Index\"]:\n",
    "    if value not in data[\"Number\"].values:\n",
    "        sequences = sequences.drop(sequences[sequences[\"Index\"] == value].index)"
   ]
  },
  {
   "cell_type": "code",
   "execution_count": 11,
   "id": "76b75fb1-671e-4e71-9d84-7d53cb864de5",
   "metadata": {},
   "outputs": [],
   "source": [
    "sequences = sequences.drop('Index', axis=1)"
   ]
  },
  {
   "cell_type": "code",
   "execution_count": 12,
   "id": "1604228d-3974-4ee9-bc01-cf1118122f30",
   "metadata": {},
   "outputs": [],
   "source": [
    "sequences = sequences.reset_index(drop=True)"
   ]
  },
  {
   "cell_type": "code",
   "execution_count": 13,
   "id": "ab345bbd-8da1-43ce-80fd-556dd22088fa",
   "metadata": {},
   "outputs": [
    {
     "data": {
      "text/html": [
       "<div>\n",
       "<style scoped>\n",
       "    .dataframe tbody tr th:only-of-type {\n",
       "        vertical-align: middle;\n",
       "    }\n",
       "\n",
       "    .dataframe tbody tr th {\n",
       "        vertical-align: top;\n",
       "    }\n",
       "\n",
       "    .dataframe thead th {\n",
       "        text-align: right;\n",
       "    }\n",
       "</style>\n",
       "<table border=\"1\" class=\"dataframe\">\n",
       "  <thead>\n",
       "    <tr style=\"text-align: right;\">\n",
       "      <th></th>\n",
       "      <th>Sequences</th>\n",
       "    </tr>\n",
       "  </thead>\n",
       "  <tbody>\n",
       "    <tr>\n",
       "      <th>0</th>\n",
       "      <td>DAHGGCDWNYFRANEGTVAW</td>\n",
       "    </tr>\n",
       "    <tr>\n",
       "      <th>1</th>\n",
       "      <td>EWFGPYHAQFLHCELDNMDK</td>\n",
       "    </tr>\n",
       "    <tr>\n",
       "      <th>2</th>\n",
       "      <td>WEIMKPTPDGGNLAYWGYGA</td>\n",
       "    </tr>\n",
       "    <tr>\n",
       "      <th>3</th>\n",
       "      <td>NRGNRLNTGHSEWCYYSGSF</td>\n",
       "    </tr>\n",
       "    <tr>\n",
       "      <th>4</th>\n",
       "      <td>EDDFKFFPRDRMLDGEEWPC</td>\n",
       "    </tr>\n",
       "    <tr>\n",
       "      <th>...</th>\n",
       "      <td>...</td>\n",
       "    </tr>\n",
       "    <tr>\n",
       "      <th>715</th>\n",
       "      <td>RSRSLKAHSMWDFYVKSAMR</td>\n",
       "    </tr>\n",
       "    <tr>\n",
       "      <th>716</th>\n",
       "      <td>SNSHWNNGDPMLGVSRLIWP</td>\n",
       "    </tr>\n",
       "    <tr>\n",
       "      <th>717</th>\n",
       "      <td>YDTSQPIQRIVLFDCNESSG</td>\n",
       "    </tr>\n",
       "    <tr>\n",
       "      <th>718</th>\n",
       "      <td>AMQMRIQGLYSGPDDQCCVY</td>\n",
       "    </tr>\n",
       "    <tr>\n",
       "      <th>719</th>\n",
       "      <td>NEPYPDFMVWIDFMDCESIR</td>\n",
       "    </tr>\n",
       "  </tbody>\n",
       "</table>\n",
       "<p>720 rows × 1 columns</p>\n",
       "</div>"
      ],
      "text/plain": [
       "                Sequences\n",
       "0    DAHGGCDWNYFRANEGTVAW\n",
       "1    EWFGPYHAQFLHCELDNMDK\n",
       "2    WEIMKPTPDGGNLAYWGYGA\n",
       "3    NRGNRLNTGHSEWCYYSGSF\n",
       "4    EDDFKFFPRDRMLDGEEWPC\n",
       "..                    ...\n",
       "715  RSRSLKAHSMWDFYVKSAMR\n",
       "716  SNSHWNNGDPMLGVSRLIWP\n",
       "717  YDTSQPIQRIVLFDCNESSG\n",
       "718  AMQMRIQGLYSGPDDQCCVY\n",
       "719  NEPYPDFMVWIDFMDCESIR\n",
       "\n",
       "[720 rows x 1 columns]"
      ]
     },
     "execution_count": 13,
     "metadata": {},
     "output_type": "execute_result"
    }
   ],
   "source": [
    "sequences"
   ]
  },
  {
   "cell_type": "code",
   "execution_count": 14,
   "id": "6dc37577-934f-4ac8-a352-9031d4e4efbb",
   "metadata": {},
   "outputs": [],
   "source": [
    "data[\"Sequences\"] = sequences"
   ]
  },
  {
   "cell_type": "code",
   "execution_count": 15,
   "id": "b74834e6-c4f5-4ddc-86eb-26e187eb885e",
   "metadata": {},
   "outputs": [
    {
     "data": {
      "text/html": [
       "<div>\n",
       "<style scoped>\n",
       "    .dataframe tbody tr th:only-of-type {\n",
       "        vertical-align: middle;\n",
       "    }\n",
       "\n",
       "    .dataframe tbody tr th {\n",
       "        vertical-align: top;\n",
       "    }\n",
       "\n",
       "    .dataframe thead th {\n",
       "        text-align: right;\n",
       "    }\n",
       "</style>\n",
       "<table border=\"1\" class=\"dataframe\">\n",
       "  <thead>\n",
       "    <tr style=\"text-align: right;\">\n",
       "      <th></th>\n",
       "      <th>Number</th>\n",
       "      <th>Scores</th>\n",
       "      <th>Sequences</th>\n",
       "    </tr>\n",
       "  </thead>\n",
       "  <tbody>\n",
       "    <tr>\n",
       "      <th>0</th>\n",
       "      <td>1</td>\n",
       "      <td>-11.434</td>\n",
       "      <td>DAHGGCDWNYFRANEGTVAW</td>\n",
       "    </tr>\n",
       "    <tr>\n",
       "      <th>1</th>\n",
       "      <td>2</td>\n",
       "      <td>-11.479</td>\n",
       "      <td>EWFGPYHAQFLHCELDNMDK</td>\n",
       "    </tr>\n",
       "    <tr>\n",
       "      <th>2</th>\n",
       "      <td>10</td>\n",
       "      <td>-10.835</td>\n",
       "      <td>WEIMKPTPDGGNLAYWGYGA</td>\n",
       "    </tr>\n",
       "    <tr>\n",
       "      <th>3</th>\n",
       "      <td>11</td>\n",
       "      <td>-10.324</td>\n",
       "      <td>NRGNRLNTGHSEWCYYSGSF</td>\n",
       "    </tr>\n",
       "    <tr>\n",
       "      <th>4</th>\n",
       "      <td>12</td>\n",
       "      <td>-11.591</td>\n",
       "      <td>EDDFKFFPRDRMLDGEEWPC</td>\n",
       "    </tr>\n",
       "    <tr>\n",
       "      <th>...</th>\n",
       "      <td>...</td>\n",
       "      <td>...</td>\n",
       "      <td>...</td>\n",
       "    </tr>\n",
       "    <tr>\n",
       "      <th>715</th>\n",
       "      <td>826</td>\n",
       "      <td>-11.727</td>\n",
       "      <td>RSRSLKAHSMWDFYVKSAMR</td>\n",
       "    </tr>\n",
       "    <tr>\n",
       "      <th>716</th>\n",
       "      <td>827</td>\n",
       "      <td>-11.579</td>\n",
       "      <td>SNSHWNNGDPMLGVSRLIWP</td>\n",
       "    </tr>\n",
       "    <tr>\n",
       "      <th>717</th>\n",
       "      <td>829</td>\n",
       "      <td>-10.463</td>\n",
       "      <td>YDTSQPIQRIVLFDCNESSG</td>\n",
       "    </tr>\n",
       "    <tr>\n",
       "      <th>718</th>\n",
       "      <td>830</td>\n",
       "      <td>-10.739</td>\n",
       "      <td>AMQMRIQGLYSGPDDQCCVY</td>\n",
       "    </tr>\n",
       "    <tr>\n",
       "      <th>719</th>\n",
       "      <td>1000</td>\n",
       "      <td>-10.898</td>\n",
       "      <td>NEPYPDFMVWIDFMDCESIR</td>\n",
       "    </tr>\n",
       "  </tbody>\n",
       "</table>\n",
       "<p>720 rows × 3 columns</p>\n",
       "</div>"
      ],
      "text/plain": [
       "     Number  Scores             Sequences\n",
       "0         1 -11.434  DAHGGCDWNYFRANEGTVAW\n",
       "1         2 -11.479  EWFGPYHAQFLHCELDNMDK\n",
       "2        10 -10.835  WEIMKPTPDGGNLAYWGYGA\n",
       "3        11 -10.324  NRGNRLNTGHSEWCYYSGSF\n",
       "4        12 -11.591  EDDFKFFPRDRMLDGEEWPC\n",
       "..      ...     ...                   ...\n",
       "715     826 -11.727  RSRSLKAHSMWDFYVKSAMR\n",
       "716     827 -11.579  SNSHWNNGDPMLGVSRLIWP\n",
       "717     829 -10.463  YDTSQPIQRIVLFDCNESSG\n",
       "718     830 -10.739  AMQMRIQGLYSGPDDQCCVY\n",
       "719    1000 -10.898  NEPYPDFMVWIDFMDCESIR\n",
       "\n",
       "[720 rows x 3 columns]"
      ]
     },
     "execution_count": 15,
     "metadata": {},
     "output_type": "execute_result"
    }
   ],
   "source": [
    "data"
   ]
  },
  {
   "cell_type": "code",
   "execution_count": 16,
   "id": "d40a724f-caf5-4b69-985c-627db0b50b27",
   "metadata": {},
   "outputs": [],
   "source": [
    "data.to_excel('final_data.xlsx', index=False)"
   ]
  },
  {
   "cell_type": "code",
   "execution_count": 17,
   "id": "e2ace857-ecd3-4a02-93b9-de78358619c6",
   "metadata": {},
   "outputs": [
    {
     "data": {
      "image/png": "[encoded data removed]",
      "text/plain": [
       "<Figure size 640x480 with 1 Axes>"
      ]
     },
     "metadata": {},
     "output_type": "display_data"
    }
   ],
   "source": [
    "min_val = data['Scores'].min()\n",
    "max_val = data['Scores'].max()\n",
    "bins = np.arange(np.floor(min_val), np.ceil(max_val) + 0.2, 0.2)\n",
    "plt.hist(data['Scores'], bins=bins, edgecolor='black')\n",
    "plt.xlabel(\"Score\")\n",
    "plt.ylabel(\"Frequency\")\n",
    "plt.title(\"Histogram of Scores\")\n",
    "plt.show()"
   ]
  }
 ],
 "metadata": {
  "kernelspec": {
   "display_name": "Python [conda env:base] *",
   "language": "python",
   "name": "conda-base-py"
  },
  "language_info": {
   "codemirror_mode": {
    "name": "ipython",
    "version": 3
   },
   "file_extension": ".py",
   "mimetype": "text/x-python",
   "name": "python",
   "nbconvert_exporter": "python",
   "pygments_lexer": "ipython3",
   "version": "3.12.7"
  }
 },
 "nbformat": 4,
 "nbformat_minor": 5
}
